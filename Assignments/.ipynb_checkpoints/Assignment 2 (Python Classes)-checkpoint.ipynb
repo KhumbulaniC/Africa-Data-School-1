{
 "cells": [
  {
   "cell_type": "markdown",
   "metadata": {},
   "source": [
    "### Question 1\n",
    "* Make a class called User. Create two attributes called **first_name** and **last_name**, and then create several other attributes that are typically storedin a user profile. \n",
    "* Make a method called **describe_user()** that prints a summary of the user’s information. \n",
    "* Make another method called **greet_user()** that prints a personalized greeting to the user.\n",
    "* Create several instances representing different users, and call both methods for each user."
   ]
  },
  {
   "cell_type": "code",
   "execution_count": null,
   "metadata": {},
   "outputs": [],
   "source": [
    "# Write your code here.\n"
   ]
  },
  {
   "cell_type": "markdown",
   "metadata": {},
   "source": [
    "### Question 2"
   ]
  },
  {
   "cell_type": "code",
   "execution_count": 1,
   "metadata": {},
   "outputs": [],
   "source": [
    "class Animal:\n",
    "    def __init__(self):\n",
    "        self.eyes = 2\n",
    "        self.legs = 2\n",
    "\n",
    "    def walk(self):\n",
    "        if self.legs:\n",
    "            print(f'Walking on my own {self.legs} legs.')\n",
    "        else:\n",
    "            print(\"Can't walk. Maybe swim!\")"
   ]
  },
  {
   "cell_type": "markdown",
   "metadata": {},
   "source": [
    "* Create a new class called **Fish** that inherits from the **Animal** class above.\n",
    "* **NB**: A fish has zero legs."
   ]
  },
  {
   "cell_type": "code",
   "execution_count": null,
   "metadata": {},
   "outputs": [],
   "source": [
    "# Write your code here"
   ]
  },
  {
   "cell_type": "code",
   "execution_count": null,
   "metadata": {},
   "outputs": [],
   "source": []
  }
 ],
 "metadata": {
  "kernelspec": {
   "display_name": "Python 3",
   "language": "python",
   "name": "python3"
  },
  "language_info": {
   "codemirror_mode": {
    "name": "ipython",
    "version": 3
   },
   "file_extension": ".py",
   "mimetype": "text/x-python",
   "name": "python",
   "nbconvert_exporter": "python",
   "pygments_lexer": "ipython3",
   "version": "3.8.8"
  }
 },
 "nbformat": 4,
 "nbformat_minor": 4
}
